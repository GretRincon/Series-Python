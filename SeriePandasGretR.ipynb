{
  "nbformat": 4,
  "nbformat_minor": 0,
  "metadata": {
    "kernelspec": {
      "display_name": "Python 3",
      "language": "python",
      "name": "python3"
    },
    "language_info": {
      "codemirror_mode": {
        "name": "ipython",
        "version": 3
      },
      "file_extension": ".py",
      "mimetype": "text/x-python",
      "name": "python",
      "nbconvert_exporter": "python",
      "pygments_lexer": "ipython3",
      "version": "3.7.3"
    },
    "colab": {
      "name": "SeriePandasGret.ipynb",
      "provenance": [],
      "include_colab_link": true
    }
  },
  "cells": [
    {
      "cell_type": "markdown",
      "metadata": {
        "id": "view-in-github",
        "colab_type": "text"
      },
      "source": [
        "<a href=\"https://colab.research.google.com/github/GretRincon/PrimerProyectoFisica/blob/master/SeriePandasGret.ipynb\" target=\"_parent\"><img src=\"https://colab.research.google.com/assets/colab-badge.svg\" alt=\"Open In Colab\"/></a>"
      ]
    },
    {
      "cell_type": "markdown",
      "metadata": {
        "id": "zfhj1Cqi61tB",
        "colab_type": "text"
      },
      "source": [
        "### Serie Pandas\n",
        "Esta es la segunda serie, en esta quiero que trabajemos con datasets que se obtendrán a partir del github del curso que es: https://github.com/adrishg/PythonML-PrebecariosProteco \n",
        "\n",
        "(No les subiré un punto por seguirme porque no estoy tan desesperada por popularidad pero deberían considerarlo)"
      ]
    },
    {
      "cell_type": "code",
      "metadata": {
        "id": "2d9nh-rw61tE",
        "colab_type": "code",
        "colab": {}
      },
      "source": [
        "import pandas as pd"
      ],
      "execution_count": 0,
      "outputs": []
    },
    {
      "cell_type": "markdown",
      "metadata": {
        "id": "mTbI9u7n61tP",
        "colab_type": "text"
      },
      "source": [
        "1) Considerando el siguiente set de datos:\n",
        "           \n",
        "           a) Crea un dataframe a partir de datos\n",
        "           b) Despliega los primeros tres datos de dicho dataframe\n",
        "           c) Despliga los últimos dos datos de dicho dataframe\n",
        "           d) Una descripción de los datos (count, mean, std, ...) "
      ]
    },
    {
      "cell_type": "code",
      "metadata": {
        "id": "KASX-L6f61tR",
        "colab_type": "code",
        "colab": {}
      },
      "source": [
        "datos = {\n",
        "    'fecha':pd.date_range('20200430', periods=6),\n",
        "    'calidad':pd.Categorical(['buena', 'muy buena', 'mala', 'buena', 'muy mala', 'buena'],\n",
        "                                 categories = ['muy mala', 'mala', 'regular', 'buena', 'muy buena'],\n",
        "                                 ordered = True),\n",
        "    'asistentes':[10, 25, 12, 3, 23, 43],\n",
        "    'recomendaciones':['hablar más lento', 'me aburri', 'Derek hacia cosas raras', 'excelente', 'no se entendio nada',\n",
        "               '¿Y el recreo?']\n",
        "}"
      ],
      "execution_count": 0,
      "outputs": []
    },
    {
      "cell_type": "code",
      "metadata": {
        "id": "gE5CknNa61ta",
        "colab_type": "code",
        "outputId": "ac252046-8b87-4ca3-9745-8d22a6bbcdbd",
        "colab": {
          "base_uri": "https://localhost:8080/",
          "height": 256
        }
      },
      "source": [
        "import pandas as pd\n",
        "dataFrameDatos=pd.DataFrame(datos) #Crear el dataframe (tabla de datos)\n",
        "print(\"Esta es la tabla de los datos recolectados\")\n",
        "dataFrameDatos #Mandar a llamar el dataframe\n"
      ],
      "execution_count": 10,
      "outputs": [
        {
          "output_type": "stream",
          "text": [
            "Esta es la tabla de los datos recolectados\n"
          ],
          "name": "stdout"
        },
        {
          "output_type": "execute_result",
          "data": {
            "text/html": [
              "<div>\n",
              "<style scoped>\n",
              "    .dataframe tbody tr th:only-of-type {\n",
              "        vertical-align: middle;\n",
              "    }\n",
              "\n",
              "    .dataframe tbody tr th {\n",
              "        vertical-align: top;\n",
              "    }\n",
              "\n",
              "    .dataframe thead th {\n",
              "        text-align: right;\n",
              "    }\n",
              "</style>\n",
              "<table border=\"1\" class=\"dataframe\">\n",
              "  <thead>\n",
              "    <tr style=\"text-align: right;\">\n",
              "      <th></th>\n",
              "      <th>fecha</th>\n",
              "      <th>calidad</th>\n",
              "      <th>asistentes</th>\n",
              "      <th>recomendaciones</th>\n",
              "    </tr>\n",
              "  </thead>\n",
              "  <tbody>\n",
              "    <tr>\n",
              "      <th>0</th>\n",
              "      <td>2020-04-30</td>\n",
              "      <td>buena</td>\n",
              "      <td>10</td>\n",
              "      <td>hablar más lento</td>\n",
              "    </tr>\n",
              "    <tr>\n",
              "      <th>1</th>\n",
              "      <td>2020-05-01</td>\n",
              "      <td>muy buena</td>\n",
              "      <td>25</td>\n",
              "      <td>me aburri</td>\n",
              "    </tr>\n",
              "    <tr>\n",
              "      <th>2</th>\n",
              "      <td>2020-05-02</td>\n",
              "      <td>mala</td>\n",
              "      <td>12</td>\n",
              "      <td>Derek hacia cosas raras</td>\n",
              "    </tr>\n",
              "    <tr>\n",
              "      <th>3</th>\n",
              "      <td>2020-05-03</td>\n",
              "      <td>buena</td>\n",
              "      <td>3</td>\n",
              "      <td>excelente</td>\n",
              "    </tr>\n",
              "    <tr>\n",
              "      <th>4</th>\n",
              "      <td>2020-05-04</td>\n",
              "      <td>muy mala</td>\n",
              "      <td>23</td>\n",
              "      <td>no se entendio nada</td>\n",
              "    </tr>\n",
              "    <tr>\n",
              "      <th>5</th>\n",
              "      <td>2020-05-05</td>\n",
              "      <td>buena</td>\n",
              "      <td>43</td>\n",
              "      <td>¿Y el recreo?</td>\n",
              "    </tr>\n",
              "  </tbody>\n",
              "</table>\n",
              "</div>"
            ],
            "text/plain": [
              "       fecha    calidad  asistentes          recomendaciones\n",
              "0 2020-04-30      buena          10         hablar más lento\n",
              "1 2020-05-01  muy buena          25                me aburri\n",
              "2 2020-05-02       mala          12  Derek hacia cosas raras\n",
              "3 2020-05-03      buena           3                excelente\n",
              "4 2020-05-04   muy mala          23      no se entendio nada\n",
              "5 2020-05-05      buena          43            ¿Y el recreo?"
            ]
          },
          "metadata": {
            "tags": []
          },
          "execution_count": 10
        }
      ]
    },
    {
      "cell_type": "code",
      "metadata": {
        "id": "sNRY8kbWHi2y",
        "colab_type": "code",
        "colab": {
          "base_uri": "https://localhost:8080/",
          "height": 337
        },
        "outputId": "bdcbc977-1774-44ae-84a0-14b4136b952d"
      },
      "source": [
        "print(\"Los primeros 3 datos son:\")\n",
        "dataFrameDatos.head(3) #Imprime los primeros n datos\n"
      ],
      "execution_count": 6,
      "outputs": [
        {
          "output_type": "stream",
          "text": [
            "Los primeros 3 datos son:\n",
            "Los últimos 2 datos son:\n"
          ],
          "name": "stdout"
        },
        {
          "output_type": "execute_result",
          "data": {
            "text/html": [
              "<div>\n",
              "<style scoped>\n",
              "    .dataframe tbody tr th:only-of-type {\n",
              "        vertical-align: middle;\n",
              "    }\n",
              "\n",
              "    .dataframe tbody tr th {\n",
              "        vertical-align: top;\n",
              "    }\n",
              "\n",
              "    .dataframe thead th {\n",
              "        text-align: right;\n",
              "    }\n",
              "</style>\n",
              "<table border=\"1\" class=\"dataframe\">\n",
              "  <thead>\n",
              "    <tr style=\"text-align: right;\">\n",
              "      <th></th>\n",
              "      <th>asistentes</th>\n",
              "    </tr>\n",
              "  </thead>\n",
              "  <tbody>\n",
              "    <tr>\n",
              "      <th>count</th>\n",
              "      <td>6.000000</td>\n",
              "    </tr>\n",
              "    <tr>\n",
              "      <th>mean</th>\n",
              "      <td>19.333333</td>\n",
              "    </tr>\n",
              "    <tr>\n",
              "      <th>std</th>\n",
              "      <td>14.236104</td>\n",
              "    </tr>\n",
              "    <tr>\n",
              "      <th>min</th>\n",
              "      <td>3.000000</td>\n",
              "    </tr>\n",
              "    <tr>\n",
              "      <th>25%</th>\n",
              "      <td>10.500000</td>\n",
              "    </tr>\n",
              "    <tr>\n",
              "      <th>50%</th>\n",
              "      <td>17.500000</td>\n",
              "    </tr>\n",
              "    <tr>\n",
              "      <th>75%</th>\n",
              "      <td>24.500000</td>\n",
              "    </tr>\n",
              "    <tr>\n",
              "      <th>max</th>\n",
              "      <td>43.000000</td>\n",
              "    </tr>\n",
              "  </tbody>\n",
              "</table>\n",
              "</div>"
            ],
            "text/plain": [
              "       asistentes\n",
              "count    6.000000\n",
              "mean    19.333333\n",
              "std     14.236104\n",
              "min      3.000000\n",
              "25%     10.500000\n",
              "50%     17.500000\n",
              "75%     24.500000\n",
              "max     43.000000"
            ]
          },
          "metadata": {
            "tags": []
          },
          "execution_count": 6
        }
      ]
    },
    {
      "cell_type": "code",
      "metadata": {
        "id": "n5LCGNYDHq03",
        "colab_type": "code",
        "colab": {
          "base_uri": "https://localhost:8080/",
          "height": 130
        },
        "outputId": "95ca6382-dee7-4fcd-f88f-9759a952e3f2"
      },
      "source": [
        "print(\"Los últimos 2 datos son:\")\n",
        "dataFrameDatos.tail(2) #Imprime los ultimos n datos\n"
      ],
      "execution_count": 8,
      "outputs": [
        {
          "output_type": "stream",
          "text": [
            "Los últimos 2 datos son:\n"
          ],
          "name": "stdout"
        },
        {
          "output_type": "execute_result",
          "data": {
            "text/html": [
              "<div>\n",
              "<style scoped>\n",
              "    .dataframe tbody tr th:only-of-type {\n",
              "        vertical-align: middle;\n",
              "    }\n",
              "\n",
              "    .dataframe tbody tr th {\n",
              "        vertical-align: top;\n",
              "    }\n",
              "\n",
              "    .dataframe thead th {\n",
              "        text-align: right;\n",
              "    }\n",
              "</style>\n",
              "<table border=\"1\" class=\"dataframe\">\n",
              "  <thead>\n",
              "    <tr style=\"text-align: right;\">\n",
              "      <th></th>\n",
              "      <th>fecha</th>\n",
              "      <th>calidad</th>\n",
              "      <th>asistentes</th>\n",
              "      <th>recomendaciones</th>\n",
              "    </tr>\n",
              "  </thead>\n",
              "  <tbody>\n",
              "    <tr>\n",
              "      <th>4</th>\n",
              "      <td>2020-05-04</td>\n",
              "      <td>muy mala</td>\n",
              "      <td>23</td>\n",
              "      <td>no se entendio nada</td>\n",
              "    </tr>\n",
              "    <tr>\n",
              "      <th>5</th>\n",
              "      <td>2020-05-05</td>\n",
              "      <td>buena</td>\n",
              "      <td>43</td>\n",
              "      <td>¿Y el recreo?</td>\n",
              "    </tr>\n",
              "  </tbody>\n",
              "</table>\n",
              "</div>"
            ],
            "text/plain": [
              "       fecha   calidad  asistentes      recomendaciones\n",
              "4 2020-05-04  muy mala          23  no se entendio nada\n",
              "5 2020-05-05     buena          43        ¿Y el recreo?"
            ]
          },
          "metadata": {
            "tags": []
          },
          "execution_count": 8
        }
      ]
    },
    {
      "cell_type": "code",
      "metadata": {
        "id": "8wJhNFIpHtGa",
        "colab_type": "code",
        "colab": {
          "base_uri": "https://localhost:8080/",
          "height": 300
        },
        "outputId": "734cb563-2c21-4a6f-8c0d-20703cc318ee"
      },
      "source": [
        "dataFrameDatos.describe() #Te da count, mean, std, min, 25%,50%,75%, max\n",
        "#Count, numero de datos (sin contar los vacios)\n",
        "#std desviacion estandar\n",
        "#min, max, Son los valores numericos minimos y maximos dentro del dataframe\n",
        "#Puedes variar los parametros dentro del .describe()"
      ],
      "execution_count": 9,
      "outputs": [
        {
          "output_type": "execute_result",
          "data": {
            "text/html": [
              "<div>\n",
              "<style scoped>\n",
              "    .dataframe tbody tr th:only-of-type {\n",
              "        vertical-align: middle;\n",
              "    }\n",
              "\n",
              "    .dataframe tbody tr th {\n",
              "        vertical-align: top;\n",
              "    }\n",
              "\n",
              "    .dataframe thead th {\n",
              "        text-align: right;\n",
              "    }\n",
              "</style>\n",
              "<table border=\"1\" class=\"dataframe\">\n",
              "  <thead>\n",
              "    <tr style=\"text-align: right;\">\n",
              "      <th></th>\n",
              "      <th>asistentes</th>\n",
              "    </tr>\n",
              "  </thead>\n",
              "  <tbody>\n",
              "    <tr>\n",
              "      <th>count</th>\n",
              "      <td>6.000000</td>\n",
              "    </tr>\n",
              "    <tr>\n",
              "      <th>mean</th>\n",
              "      <td>19.333333</td>\n",
              "    </tr>\n",
              "    <tr>\n",
              "      <th>std</th>\n",
              "      <td>14.236104</td>\n",
              "    </tr>\n",
              "    <tr>\n",
              "      <th>min</th>\n",
              "      <td>3.000000</td>\n",
              "    </tr>\n",
              "    <tr>\n",
              "      <th>25%</th>\n",
              "      <td>10.500000</td>\n",
              "    </tr>\n",
              "    <tr>\n",
              "      <th>50%</th>\n",
              "      <td>17.500000</td>\n",
              "    </tr>\n",
              "    <tr>\n",
              "      <th>75%</th>\n",
              "      <td>24.500000</td>\n",
              "    </tr>\n",
              "    <tr>\n",
              "      <th>max</th>\n",
              "      <td>43.000000</td>\n",
              "    </tr>\n",
              "  </tbody>\n",
              "</table>\n",
              "</div>"
            ],
            "text/plain": [
              "       asistentes\n",
              "count    6.000000\n",
              "mean    19.333333\n",
              "std     14.236104\n",
              "min      3.000000\n",
              "25%     10.500000\n",
              "50%     17.500000\n",
              "75%     24.500000\n",
              "max     43.000000"
            ]
          },
          "metadata": {
            "tags": []
          },
          "execution_count": 9
        }
      ]
    },
    {
      "cell_type": "markdown",
      "metadata": {
        "id": "CYGY0MsK61tl",
        "colab_type": "text"
      },
      "source": [
        "2) Crea una función que pida número de columnas, su nombre y número de datos a ingresar de manera que el usuario pueda crear un dataframe con los datos de su preferencia."
      ]
    },
    {
      "cell_type": "code",
      "metadata": {
        "id": "SAg9V8Xc61tn",
        "colab_type": "code",
        "outputId": "32e368a6-c0e3-4b78-e34d-96cd3151d913",
        "colab": {
          "base_uri": "https://localhost:8080/",
          "height": 586
        }
      },
      "source": [
        "import pandas as pd \n",
        "def creaDataFrames():\n",
        "    Construcciondatos={} #Diccionario, importante después\n",
        "    #Cuantas columnas y filas quieres\n",
        "    Columnas=int(input(\"Ingresa el número de columnas de tu dataframe \"))\n",
        "    Filas=int(input(\"Ingresa el número de filas \"))\n",
        "    #Titulo a cada columna, esto implica crear listas y combinar luego en dataframes\n",
        "    for i in range(Columnas):\n",
        "      print(\"Ahora estamos en la columna \",i+1) \n",
        "      TituloColumna=input(\"Ingresa el título de tu columna \")\n",
        "      columna=[] #Lista definida\n",
        "      for j in range(Filas):\n",
        "          print(\"Fila \",j+1) \n",
        "          dato= input(\"Ingresa tu dato \")\n",
        "          columna.append(dato) #Agregar dato a columna por cada fila\n",
        "      #Ahora que hemos terminado la columna, la agregamos a un diccionario¡ Continuamos \n",
        "      Construcciondatos[TituloColumna]=columna #Titulo columna es la clave\n",
        "    dataFrameNuevo=pd.DataFrame(Construcciondatos) #Ahora si, el diccionario es un dataframe\n",
        "    print(dataFrameNuevo) #Voila\n",
        "\n",
        "print(\"Crea tu dataframe \") #Instrucción ¿Que hace el programa?\n",
        "creaDataFrames() #Llama y comienza la funcion\n",
        "       \n"
      ],
      "execution_count": 15,
      "outputs": [
        {
          "output_type": "stream",
          "text": [
            "Crea tu dataframe \n",
            "Ingresa el número de columnas de tu dataframe 3\n",
            "Ingresa el número de filas 3\n",
            "Ahora estamos en la columna  1\n",
            "Ingresa el título de tu columna Materia\n",
            "Fila  1\n",
            "Ingresa tu dato Cuántica\n",
            "Fila  2\n",
            "Ingresa tu dato Electro\n",
            "Fila  3\n",
            "Ingresa tu dato Optica\n",
            "Ahora estamos en la columna  2\n",
            "Ingresa el título de tu columna Calificación\n",
            "Fila  1\n",
            "Ingresa tu dato 8\n",
            "Fila  2\n",
            "Ingresa tu dato 10\n",
            "Fila  3\n",
            "Ingresa tu dato 10\n",
            "Ahora estamos en la columna  3\n",
            "Ingresa el título de tu columna Profesor\n",
            "Fila  1\n",
            "Ingresa tu dato Bueno\n",
            "Fila  2\n",
            "Ingresa tu dato Barco\n",
            "Fila  3\n",
            "Ingresa tu dato Malo\n",
            "    Materia Calificación Profesor\n",
            "0  Cuántica            8    Bueno\n",
            "1   Electro           10    Barco\n",
            "2    Optica           10     Malo\n"
          ],
          "name": "stdout"
        }
      ]
    },
    {
      "cell_type": "markdown",
      "metadata": {
        "id": "36-cdLyy61tw",
        "colab_type": "text"
      },
      "source": [
        "3) A partir del siguiente DataSet realiza:"
      ]
    },
    {
      "cell_type": "code",
      "metadata": {
        "id": "IpFzL35S61ty",
        "colab_type": "code",
        "outputId": "b482b87c-4137-418f-b91e-b7811f42a064",
        "colab": {
          "base_uri": "https://localhost:8080/",
          "height": 206
        }
      },
      "source": [
        "#Liga del github: https://raw.githubusercontent.com/adrishg/PythonML-PrebecariosProteco/master/DataSets/startupsUSA.csv\n",
        "#Podrán agregar archivos de github y leerlos usando el url raw\n",
        "data = pd.read_csv('https://raw.githubusercontent.com/adrishg/PythonML-PrebecariosProteco/master/DataSets/startupsUSA.csv')\n",
        "data.head()"
      ],
      "execution_count": 14,
      "outputs": [
        {
          "output_type": "execute_result",
          "data": {
            "text/html": [
              "<div>\n",
              "<style scoped>\n",
              "    .dataframe tbody tr th:only-of-type {\n",
              "        vertical-align: middle;\n",
              "    }\n",
              "\n",
              "    .dataframe tbody tr th {\n",
              "        vertical-align: top;\n",
              "    }\n",
              "\n",
              "    .dataframe thead th {\n",
              "        text-align: right;\n",
              "    }\n",
              "</style>\n",
              "<table border=\"1\" class=\"dataframe\">\n",
              "  <thead>\n",
              "    <tr style=\"text-align: right;\">\n",
              "      <th></th>\n",
              "      <th>R&amp;D Spend</th>\n",
              "      <th>Administration</th>\n",
              "      <th>Marketing Spend</th>\n",
              "      <th>State</th>\n",
              "      <th>Profit</th>\n",
              "    </tr>\n",
              "  </thead>\n",
              "  <tbody>\n",
              "    <tr>\n",
              "      <th>0</th>\n",
              "      <td>165349.20</td>\n",
              "      <td>136897.80</td>\n",
              "      <td>471784.10</td>\n",
              "      <td>New York</td>\n",
              "      <td>192261.83</td>\n",
              "    </tr>\n",
              "    <tr>\n",
              "      <th>1</th>\n",
              "      <td>162597.70</td>\n",
              "      <td>151377.59</td>\n",
              "      <td>443898.53</td>\n",
              "      <td>California</td>\n",
              "      <td>191792.06</td>\n",
              "    </tr>\n",
              "    <tr>\n",
              "      <th>2</th>\n",
              "      <td>153441.51</td>\n",
              "      <td>101145.55</td>\n",
              "      <td>407934.54</td>\n",
              "      <td>Florida</td>\n",
              "      <td>191050.39</td>\n",
              "    </tr>\n",
              "    <tr>\n",
              "      <th>3</th>\n",
              "      <td>144372.41</td>\n",
              "      <td>118671.85</td>\n",
              "      <td>383199.62</td>\n",
              "      <td>New York</td>\n",
              "      <td>182901.99</td>\n",
              "    </tr>\n",
              "    <tr>\n",
              "      <th>4</th>\n",
              "      <td>142107.34</td>\n",
              "      <td>91391.77</td>\n",
              "      <td>366168.42</td>\n",
              "      <td>Florida</td>\n",
              "      <td>166187.94</td>\n",
              "    </tr>\n",
              "  </tbody>\n",
              "</table>\n",
              "</div>"
            ],
            "text/plain": [
              "   R&D Spend  Administration  Marketing Spend       State     Profit\n",
              "0  165349.20       136897.80        471784.10    New York  192261.83\n",
              "1  162597.70       151377.59        443898.53  California  191792.06\n",
              "2  153441.51       101145.55        407934.54     Florida  191050.39\n",
              "3  144372.41       118671.85        383199.62    New York  182901.99\n",
              "4  142107.34        91391.77        366168.42     Florida  166187.94"
            ]
          },
          "metadata": {
            "tags": []
          },
          "execution_count": 14
        }
      ]
    },
    {
      "cell_type": "markdown",
      "metadata": {
        "id": "PU5DHdbh61uG",
        "colab_type": "text"
      },
      "source": [
        "    a) Crea una función que reciba un lugar y despligue en el número de empresas que residen en dicho lugar"
      ]
    },
    {
      "cell_type": "code",
      "metadata": {
        "id": "ljLNQBDB61uH",
        "colab_type": "code",
        "outputId": "4cae8f59-250a-4f85-8b30-8998a679eff9",
        "colab": {
          "base_uri": "https://localhost:8080/",
          "height": 366
        }
      },
      "source": [
        "def EmpresasenLugar(lugar): #Función, dame un lugar, te despliego las empresas en él\n",
        "    Elegidos = data['State'] == lugar #datos donde la columna state, coincida con lugar  \n",
        "    DatosEEL = data[Elegidos] #Un 2do dataframe solo con el lugar especifico\n",
        "    #DatosEEL (Empresas en \"lugar\")\n",
        "    print(\"El numero de empresas en\",lugar,\"es\",len(DatosEEL)) #Cuantas en lugar\n",
        "    print(DatosEEL)\n",
        "\n",
        "EmpresasenLugar('New York') #Aqui estamos dando por defecto New York\n",
        "#Podriamos desplegar un menu de los lugares New York, California,Florida\n"
      ],
      "execution_count": 18,
      "outputs": [
        {
          "output_type": "stream",
          "text": [
            "El numero de empresas en New York es 17\n",
            "    R&D Spend  Administration  Marketing Spend     State     Profit\n",
            "0   165349.20       136897.80        471784.10  New York  192261.83\n",
            "3   144372.41       118671.85        383199.62  New York  182901.99\n",
            "5   131876.90        99814.71        362861.36  New York  156991.12\n",
            "8   120542.52       148718.95        311613.29  New York  152211.77\n",
            "15  114523.61       122616.84        261776.23  New York  129917.04\n",
            "17   94657.16       145077.58        282574.31  New York  125370.37\n",
            "19   86419.70       153514.11             0.00  New York  122776.86\n",
            "21   78389.47       153773.43        299737.29  New York  111313.02\n",
            "24   77044.01        99281.34        140574.81  New York  108552.04\n",
            "27   72107.60       127864.55        353183.81  New York  105008.31\n",
            "29   65605.48       153032.06        107138.38  New York  101004.64\n",
            "31   61136.38       152701.92         88218.23  New York   97483.56\n",
            "35   46014.02        85047.44        205517.64  New York   96479.51\n",
            "38   20229.59        65947.93        185265.10  New York   81229.06\n",
            "43   15505.73       127382.30         35534.17  New York   69758.98\n",
            "45    1000.23       124153.04          1903.93  New York   64926.08\n",
            "48     542.05        51743.15             0.00  New York   35673.41\n"
          ],
          "name": "stdout"
        }
      ]
    },
    {
      "cell_type": "markdown",
      "metadata": {
        "id": "CfpkL99NH1Ju",
        "colab_type": "text"
      },
      "source": [
        ""
      ]
    },
    {
      "cell_type": "markdown",
      "metadata": {
        "id": "8QXSXPy261uT",
        "colab_type": "text"
      },
      "source": [
        "    b) Un data set cuyo orden este dado alfabeticamente por los lugares donde están las empresas"
      ]
    },
    {
      "cell_type": "code",
      "metadata": {
        "id": "a8-asd9G61uV",
        "colab_type": "code",
        "outputId": "a94477cb-1a77-4fa0-90af-d9cc0b034c4f",
        "colab": {
          "base_uri": "https://localhost:8080/",
          "height": 954
        }
      },
      "source": [
        "LugarAlfab = data.sort_values('State',ascending=True) #sort=ordenar en State de A a Z\n",
        "print(LugarAlfab)"
      ],
      "execution_count": 21,
      "outputs": [
        {
          "output_type": "stream",
          "text": [
            "    R&D Spend  Administration  Marketing Spend       State     Profit\n",
            "49       0.00       116983.80         45173.06  California   14681.40\n",
            "42   23640.93        96189.63        148001.11  California   71498.49\n",
            "40   28754.33       118546.05        172795.67  California   78239.91\n",
            "34   46426.07       157693.92        210797.67  California   96712.80\n",
            "16   78013.11       121597.55        264346.06  California  126992.93\n",
            "44   22177.74       154806.14         28334.72  California   65200.33\n",
            "25   64664.71       139553.16        137962.62  California  107404.34\n",
            "13   91992.39       135495.07        252664.93  California  134307.35\n",
            "11  100671.96        91790.61        249744.55  California  144259.40\n",
            "20   76253.86       113867.30        298664.47  California  118474.03\n",
            "39   38558.51        82982.09        174999.30  California   81005.76\n",
            "6   134615.46       147198.87        127716.82  California  156122.51\n",
            "37   44069.95        51283.14        197029.42  California   89949.14\n",
            "32   63408.86       129219.61         46085.25  California   97427.84\n",
            "47       0.00       135426.92             0.00  California   42559.73\n",
            "1   162597.70       151377.59        443898.53  California  191792.06\n",
            "9   123334.88       108679.17        304981.62  California  149759.96\n",
            "28   66051.52       182645.56        118148.20     Florida  103282.38\n",
            "26   75328.87       144135.98        134050.07     Florida  105733.54\n",
            "30   61994.48       115641.28         91131.24     Florida   99937.59\n",
            "33   55493.95       103057.49        214634.81     Florida   96778.92\n",
            "23   67532.53       105751.03        304768.73     Florida  108733.99\n",
            "36   28663.76       127056.21        201126.82     Florida   90708.19\n",
            "41   27892.92        84710.77        164470.71     Florida   77798.83\n",
            "18   91749.16       114175.79        294919.57     Florida  124266.90\n",
            "14  119943.24       156547.42        256512.92     Florida  132602.65\n",
            "12   93863.75       127320.38        249839.44     Florida  141585.52\n",
            "10  101913.08       110594.11        229160.95     Florida  146121.95\n",
            "7   130298.13       145530.06        323876.68     Florida  155752.60\n",
            "46    1315.46       115816.21        297114.46     Florida   49490.75\n",
            "4   142107.34        91391.77        366168.42     Florida  166187.94\n",
            "2   153441.51       101145.55        407934.54     Florida  191050.39\n",
            "22   73994.56       122782.75        303319.26     Florida  110352.25\n",
            "45    1000.23       124153.04          1903.93    New York   64926.08\n",
            "38   20229.59        65947.93        185265.10    New York   81229.06\n",
            "43   15505.73       127382.30         35534.17    New York   69758.98\n",
            "0   165349.20       136897.80        471784.10    New York  192261.83\n",
            "31   61136.38       152701.92         88218.23    New York   97483.56\n",
            "29   65605.48       153032.06        107138.38    New York  101004.64\n",
            "27   72107.60       127864.55        353183.81    New York  105008.31\n",
            "48     542.05        51743.15             0.00    New York   35673.41\n",
            "21   78389.47       153773.43        299737.29    New York  111313.02\n",
            "19   86419.70       153514.11             0.00    New York  122776.86\n",
            "17   94657.16       145077.58        282574.31    New York  125370.37\n",
            "15  114523.61       122616.84        261776.23    New York  129917.04\n",
            "8   120542.52       148718.95        311613.29    New York  152211.77\n",
            "5   131876.90        99814.71        362861.36    New York  156991.12\n",
            "3   144372.41       118671.85        383199.62    New York  182901.99\n",
            "35   46014.02        85047.44        205517.64    New York   96479.51\n",
            "24   77044.01        99281.34        140574.81    New York  108552.04\n"
          ],
          "name": "stdout"
        }
      ]
    },
    {
      "cell_type": "markdown",
      "metadata": {
        "id": "90UdtXK661uc",
        "colab_type": "text"
      },
      "source": [
        "    c) Una función donde ingreses el index númerico y despliegue dichos datos de manera legible:\n",
        "    \n",
        "        Ejemplo: [In]: 0  [Out]: La empresa que reside en New York tiene un gato de Marketing de 471784.10 dólares mientras que sus ganancias son 192261.83 dólares..."
      ]
    },
    {
      "cell_type": "code",
      "metadata": {
        "id": "9Qrxp38H61ue",
        "colab_type": "code",
        "colab": {
          "base_uri": "https://localhost:8080/",
          "height": 55
        },
        "outputId": "2d00d712-4fbe-4430-c637-73c6fa3cfe3e"
      },
      "source": [
        "def Indice(i):\n",
        "    resgistroi = data.iloc[i]\n",
        "    print(\"La empresa que reside en\", resgistroi['State'],\"tiene un gasto de marketing de \", resgistroi['Marketing Spend'],\"dólares mientras que sus ganancias son \", resgistroi['Profit'],\"dólares\"  )\n",
        "Indice(3)"
      ],
      "execution_count": 15,
      "outputs": [
        {
          "output_type": "stream",
          "text": [
            "La empresa que reside en New York tiene un gasto de marketing de  383199.62 dólares mientras que sus ganancias son  182901.99 dólares\n"
          ],
          "name": "stdout"
        }
      ]
    },
    {
      "cell_type": "markdown",
      "metadata": {
        "id": "0nouQxN8-x3_",
        "colab_type": "text"
      },
      "source": [
        ""
      ]
    },
    {
      "cell_type": "markdown",
      "metadata": {
        "id": "zSjftpHu61um",
        "colab_type": "text"
      },
      "source": [
        "4) Deberán cargar los datos de iris setosa de dos maneras:\n",
        "\n",
        "    a) Deberán dirigirse al repositorio del curso: https://github.com/adrishg/PythonML-PrebecariosProteco\n",
        "    De ahí a la carpeta de DataSets, ahí encontrarán el archivo iris.csv deben darle click para previsualizar el archivo. Ahí encontrarán un botón que dice Raw denle click y copien la liga, ese es el link raw y podrán exportarlo como lo hice en la parte de arriba con los datos de las empresas estadounidenses.\n",
        "    Desplieguen los datos con un describe para que revisen que se exporto bien.\n",
        "    \n",
        "    NOTA: También pueden aprovechar y seguirme en github, saludos.\n",
        "    \n",
        "![screenshot iris csv](https://drive.google.com/uc?id=1ytlucQdsbdnWsJmTG61eR7WQ_PBFNmCQ)\n",
        "    "
      ]
    },
    {
      "cell_type": "code",
      "metadata": {
        "id": "M_9dFdv961uo",
        "colab_type": "code",
        "outputId": "13f447d8-46cf-4804-ee01-30c241f50f09",
        "colab": {
          "base_uri": "https://localhost:8080/",
          "height": 300
        }
      },
      "source": [
        "datairis = pd.read_csv('https://raw.githubusercontent.com/adrishg/PythonML-PrebecariosProteco/master/DataSets/iris.csv')\n",
        "datairis.describe()"
      ],
      "execution_count": 21,
      "outputs": [
        {
          "output_type": "execute_result",
          "data": {
            "text/html": [
              "<div>\n",
              "<style scoped>\n",
              "    .dataframe tbody tr th:only-of-type {\n",
              "        vertical-align: middle;\n",
              "    }\n",
              "\n",
              "    .dataframe tbody tr th {\n",
              "        vertical-align: top;\n",
              "    }\n",
              "\n",
              "    .dataframe thead th {\n",
              "        text-align: right;\n",
              "    }\n",
              "</style>\n",
              "<table border=\"1\" class=\"dataframe\">\n",
              "  <thead>\n",
              "    <tr style=\"text-align: right;\">\n",
              "      <th></th>\n",
              "      <th>Id</th>\n",
              "      <th>sepal_length</th>\n",
              "      <th>sepal_width</th>\n",
              "      <th>petal_length</th>\n",
              "      <th>petal_width</th>\n",
              "    </tr>\n",
              "  </thead>\n",
              "  <tbody>\n",
              "    <tr>\n",
              "      <th>count</th>\n",
              "      <td>150.000000</td>\n",
              "      <td>150.000000</td>\n",
              "      <td>150.000000</td>\n",
              "      <td>150.000000</td>\n",
              "      <td>150.000000</td>\n",
              "    </tr>\n",
              "    <tr>\n",
              "      <th>mean</th>\n",
              "      <td>75.500000</td>\n",
              "      <td>5.843333</td>\n",
              "      <td>3.054000</td>\n",
              "      <td>3.758667</td>\n",
              "      <td>1.198667</td>\n",
              "    </tr>\n",
              "    <tr>\n",
              "      <th>std</th>\n",
              "      <td>43.445368</td>\n",
              "      <td>0.828066</td>\n",
              "      <td>0.433594</td>\n",
              "      <td>1.764420</td>\n",
              "      <td>0.763161</td>\n",
              "    </tr>\n",
              "    <tr>\n",
              "      <th>min</th>\n",
              "      <td>1.000000</td>\n",
              "      <td>4.300000</td>\n",
              "      <td>2.000000</td>\n",
              "      <td>1.000000</td>\n",
              "      <td>0.100000</td>\n",
              "    </tr>\n",
              "    <tr>\n",
              "      <th>25%</th>\n",
              "      <td>38.250000</td>\n",
              "      <td>5.100000</td>\n",
              "      <td>2.800000</td>\n",
              "      <td>1.600000</td>\n",
              "      <td>0.300000</td>\n",
              "    </tr>\n",
              "    <tr>\n",
              "      <th>50%</th>\n",
              "      <td>75.500000</td>\n",
              "      <td>5.800000</td>\n",
              "      <td>3.000000</td>\n",
              "      <td>4.350000</td>\n",
              "      <td>1.300000</td>\n",
              "    </tr>\n",
              "    <tr>\n",
              "      <th>75%</th>\n",
              "      <td>112.750000</td>\n",
              "      <td>6.400000</td>\n",
              "      <td>3.300000</td>\n",
              "      <td>5.100000</td>\n",
              "      <td>1.800000</td>\n",
              "    </tr>\n",
              "    <tr>\n",
              "      <th>max</th>\n",
              "      <td>150.000000</td>\n",
              "      <td>7.900000</td>\n",
              "      <td>4.400000</td>\n",
              "      <td>6.900000</td>\n",
              "      <td>2.500000</td>\n",
              "    </tr>\n",
              "  </tbody>\n",
              "</table>\n",
              "</div>"
            ],
            "text/plain": [
              "               Id  sepal_length  sepal_width  petal_length  petal_width\n",
              "count  150.000000    150.000000   150.000000    150.000000   150.000000\n",
              "mean    75.500000      5.843333     3.054000      3.758667     1.198667\n",
              "std     43.445368      0.828066     0.433594      1.764420     0.763161\n",
              "min      1.000000      4.300000     2.000000      1.000000     0.100000\n",
              "25%     38.250000      5.100000     2.800000      1.600000     0.300000\n",
              "50%     75.500000      5.800000     3.000000      4.350000     1.300000\n",
              "75%    112.750000      6.400000     3.300000      5.100000     1.800000\n",
              "max    150.000000      7.900000     4.400000      6.900000     2.500000"
            ]
          },
          "metadata": {
            "tags": []
          },
          "execution_count": 21
        }
      ]
    },
    {
      "cell_type": "markdown",
      "metadata": {
        "id": "sDFUTr3H61uu",
        "colab_type": "text"
      },
      "source": [
        "    b) El dataset de Iris es muy conocido en el área ya que está precargado en sklearn.datasets. Pueden obtenerlo a partir de este, tendrán que investigarlo y exportar los datos."
      ]
    },
    {
      "cell_type": "code",
      "metadata": {
        "id": "vsfq20Ib61ux",
        "colab_type": "code",
        "outputId": "8bad6247-e3dd-427e-89c0-1ae13bd59b87",
        "colab": {
          "base_uri": "https://localhost:8080/",
          "height": 300
        }
      },
      "source": [
        "from sklearn.datasets import load_iris #sklearn incluye diversas listas de datos como boston, breastcancer, diabetes, digits,iris y linnerud\n",
        "iris = load_iris() #Ingresamos el set de datos iris, con ese mismo nombre\n",
        "irisDataFrame = pd.DataFrame(iris.data, columns=iris.feature_names) #Lo convertimos a dataframe, columns lo usamos para recuperar el nombre de las columnas\n",
        "irisDataFrame.describe() "
      ],
      "execution_count": 19,
      "outputs": [
        {
          "output_type": "execute_result",
          "data": {
            "text/html": [
              "<div>\n",
              "<style scoped>\n",
              "    .dataframe tbody tr th:only-of-type {\n",
              "        vertical-align: middle;\n",
              "    }\n",
              "\n",
              "    .dataframe tbody tr th {\n",
              "        vertical-align: top;\n",
              "    }\n",
              "\n",
              "    .dataframe thead th {\n",
              "        text-align: right;\n",
              "    }\n",
              "</style>\n",
              "<table border=\"1\" class=\"dataframe\">\n",
              "  <thead>\n",
              "    <tr style=\"text-align: right;\">\n",
              "      <th></th>\n",
              "      <th>sepal length (cm)</th>\n",
              "      <th>sepal width (cm)</th>\n",
              "      <th>petal length (cm)</th>\n",
              "      <th>petal width (cm)</th>\n",
              "    </tr>\n",
              "  </thead>\n",
              "  <tbody>\n",
              "    <tr>\n",
              "      <th>count</th>\n",
              "      <td>150.000000</td>\n",
              "      <td>150.000000</td>\n",
              "      <td>150.000000</td>\n",
              "      <td>150.000000</td>\n",
              "    </tr>\n",
              "    <tr>\n",
              "      <th>mean</th>\n",
              "      <td>5.843333</td>\n",
              "      <td>3.057333</td>\n",
              "      <td>3.758000</td>\n",
              "      <td>1.199333</td>\n",
              "    </tr>\n",
              "    <tr>\n",
              "      <th>std</th>\n",
              "      <td>0.828066</td>\n",
              "      <td>0.435866</td>\n",
              "      <td>1.765298</td>\n",
              "      <td>0.762238</td>\n",
              "    </tr>\n",
              "    <tr>\n",
              "      <th>min</th>\n",
              "      <td>4.300000</td>\n",
              "      <td>2.000000</td>\n",
              "      <td>1.000000</td>\n",
              "      <td>0.100000</td>\n",
              "    </tr>\n",
              "    <tr>\n",
              "      <th>25%</th>\n",
              "      <td>5.100000</td>\n",
              "      <td>2.800000</td>\n",
              "      <td>1.600000</td>\n",
              "      <td>0.300000</td>\n",
              "    </tr>\n",
              "    <tr>\n",
              "      <th>50%</th>\n",
              "      <td>5.800000</td>\n",
              "      <td>3.000000</td>\n",
              "      <td>4.350000</td>\n",
              "      <td>1.300000</td>\n",
              "    </tr>\n",
              "    <tr>\n",
              "      <th>75%</th>\n",
              "      <td>6.400000</td>\n",
              "      <td>3.300000</td>\n",
              "      <td>5.100000</td>\n",
              "      <td>1.800000</td>\n",
              "    </tr>\n",
              "    <tr>\n",
              "      <th>max</th>\n",
              "      <td>7.900000</td>\n",
              "      <td>4.400000</td>\n",
              "      <td>6.900000</td>\n",
              "      <td>2.500000</td>\n",
              "    </tr>\n",
              "  </tbody>\n",
              "</table>\n",
              "</div>"
            ],
            "text/plain": [
              "       sepal length (cm)  sepal width (cm)  petal length (cm)  petal width (cm)\n",
              "count         150.000000        150.000000         150.000000        150.000000\n",
              "mean            5.843333          3.057333           3.758000          1.199333\n",
              "std             0.828066          0.435866           1.765298          0.762238\n",
              "min             4.300000          2.000000           1.000000          0.100000\n",
              "25%             5.100000          2.800000           1.600000          0.300000\n",
              "50%             5.800000          3.000000           4.350000          1.300000\n",
              "75%             6.400000          3.300000           5.100000          1.800000\n",
              "max             7.900000          4.400000           6.900000          2.500000"
            ]
          },
          "metadata": {
            "tags": []
          },
          "execution_count": 19
        }
      ]
    },
    {
      "cell_type": "markdown",
      "metadata": {
        "id": "8ej74CyX61u6",
        "colab_type": "text"
      },
      "source": [
        "    c) Por último les recomiendo leer acerca de este dataset, lo usaremos bastante en clase."
      ]
    },
    {
      "cell_type": "markdown",
      "metadata": {
        "id": "Fv29AlqF61u8",
        "colab_type": "text"
      },
      "source": [
        "5) En esta opción eres libre de poner cualquier función que use elementos y funciones de la librería pandas. \n",
        "    El requerimiento es que uses iloc, puedes usar alguno de los datasets cargados en esta libreta de jupyter.\n"
      ]
    },
    {
      "cell_type": "code",
      "metadata": {
        "id": "tMXIM4yFuVu1",
        "colab_type": "code",
        "colab": {
          "base_uri": "https://localhost:8080/",
          "height": 182
        },
        "outputId": "493c088d-9fa2-4c98-9a7b-dc05bf5c799e"
      },
      "source": [
        "def llamari (frame,i): #Llamara el dato con indice i de cualquier dataframe\n",
        "  print(frame.iloc[i]) \n",
        "irislength = datairis.sort_values('petal_length', ascending=True)\n",
        "irislength.head()\n",
        "print(\"Tu base de datos iris esta ordenada por la longitud de petalo \")\n",
        "i=(int(input(\"¿Que dato quieres desplegar? Escribe el número de dato \")))\n",
        "llamari(irislength,i)\n"
      ],
      "execution_count": 40,
      "outputs": [
        {
          "output_type": "stream",
          "text": [
            "Tu base de datos iris esta ordenada por la longitud de petalo \n",
            "¿Que dato quieres desplegar? Escribe el número de dato 5\n",
            "Id                       41\n",
            "sepal_length              5\n",
            "sepal_width             3.5\n",
            "petal_length            1.3\n",
            "petal_width             0.3\n",
            "species         Iris-setosa\n",
            "Name: 40, dtype: object\n"
          ],
          "name": "stdout"
        }
      ]
    }
  ]
}