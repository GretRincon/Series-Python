{
  "nbformat": 4,
  "nbformat_minor": 0,
  "metadata": {
    "kernelspec": {
      "display_name": "Python 3",
      "language": "python",
      "name": "python3"
    },
    "language_info": {
      "codemirror_mode": {
        "name": "ipython",
        "version": 3
      },
      "file_extension": ".py",
      "mimetype": "text/x-python",
      "name": "python",
      "nbconvert_exporter": "python",
      "pygments_lexer": "ipython3",
      "version": "3.7.3"
    },
    "colab": {
      "name": "Copia de Copia de seriePythonGeneracion40.ipynb",
      "provenance": [],
      "collapsed_sections": [],
      "include_colab_link": true
    }
  },
  "cells": [
    {
      "cell_type": "markdown",
      "metadata": {
        "id": "view-in-github",
        "colab_type": "text"
      },
      "source": [
        "<a href=\"https://colab.research.google.com/github/GretRincon/PrimerProyectoFisica/blob/master/SeriePythonBasico_G.ipynb\" target=\"_parent\"><img src=\"https://colab.research.google.com/assets/colab-badge.svg\" alt=\"Open In Colab\"/></a>"
      ]
    },
    {
      "cell_type": "markdown",
      "metadata": {
        "id": "2LEW87rG6fdN",
        "colab_type": "text"
      },
      "source": [
        "## Serie Python \n",
        "### Temas básicos de python.\n",
        "\n",
        "Las indicaciones son editar este archivo, deje casillas de código para que sea de la manera más ordenada posible, una vez que estén sus funciones deben subir a classroom el ipynb y generar un pdf de el mismo. \n",
        "\n",
        "**TODAS LAS CASILLLAS DEBEN ESTAR EJECUTADAS**\n",
        "\n",
        "Muchos incisos implican inputs del usuario, ustedes deben probar cada una de sus funciones (ingresar los valores que se pidan) para mandarme el archivo ipynb y el pdf una vez que hayan ejecutado todo para que vea los outputs de sus programas. En caso de que no lo hagan de esa manera y lo manden sin ejecutar tendrán un **punto menos** en la serie.\n",
        "\n",
        "\n",
        "\n",
        "Mi recomendación personal es que una vez que tengan su serie lista reinicien el kernel y ejecuten todo así podrán probar que todo este correcto antes de enviarlo.\n",
        "\n",
        "\n",
        "No considero que sea una serie dificil, el fin es sólo que práctiquen. Hay muchas cosas que pueden hacerse en una línea si investigan sobre funciones que ya están implementadas en python. \n",
        "\n",
        "Si lo hacen de ambas maneras tendrán un punto extra y si comentan todo su código pueden tener otro punto extra.\n",
        "\n",
        "\n",
        "Cualquier duda o complicación comuniquense conmigo.\n",
        "\n",
        "\n",
        "Saludos."
      ]
    },
    {
      "cell_type": "code",
      "metadata": {
        "id": "xLWBuQ4p6fdR",
        "colab_type": "code",
        "outputId": "8f252335-da8a-414d-df46-b1561dca0cd2",
        "colab": {
          "base_uri": "https://localhost:8080/",
          "height": 72
        }
      },
      "source": [
        "print(\"EJEMPLO:\")\n",
        "input(\"Está casilla ha sido ejecutada por: \")\n"
      ],
      "execution_count": 24,
      "outputs": [
        {
          "output_type": "stream",
          "text": [
            "EJEMPLO:\n",
            "Está casilla ha sido ejecutada por: Gretchen\n"
          ],
          "name": "stdout"
        },
        {
          "output_type": "execute_result",
          "data": {
            "text/plain": [
              "'Gretchen'"
            ]
          },
          "metadata": {
            "tags": []
          },
          "execution_count": 24
        }
      ]
    },
    {
      "cell_type": "markdown",
      "metadata": {
        "id": "Yp2LwzTV6fdi",
        "colab_type": "text"
      },
      "source": [
        "1) Crea una lista que regrese los multiplos de 7 y números que lleven algún siete en sus cifra hasta el 700. \n",
        "\n",
        "    [Out]: [7, 14, 17, 21, 27, 28, 35, 37, ...]"
      ]
    },
    {
      "cell_type": "code",
      "metadata": {
        "id": "Pna6px3SiSzJ",
        "colab_type": "code",
        "colab": {
          "base_uri": "https://localhost:8080/",
          "height": 54
        },
        "outputId": "8f3f546a-ce86-47be-ec8f-5ffae01e3bc1"
      },
      "source": [
        "print(\"Solo se admiten números múltiplos de 7 y con un 7, entre 7 y 700\")\n",
        "#hasta 700, multiplos de 7 & con 7\n",
        "num=0 \n",
        "lista=[]\n",
        "for num in range (701):\n",
        "  if num%7==0:\n",
        "   carc=str(num)\n",
        "   for i in range (0,len(carc)):\n",
        "    if carc[i]==\"7\":\n",
        "         lista.append(num)\n",
        "   \n",
        "print(lista)\n",
        "  \n",
        "  \n"
      ],
      "execution_count": 8,
      "outputs": [
        {
          "output_type": "stream",
          "text": [
            "Solo se admiten números múltiplos de 7 y con un 7, entre 7 y 700\n",
            "[7, 70, 77, 77, 147, 175, 217, 273, 287, 357, 371, 378, 427, 476, 497, 567, 574, 637, 672, 679, 700]\n"
          ],
          "name": "stdout"
        }
      ]
    },
    {
      "cell_type": "code",
      "metadata": {
        "id": "hrBa3oKniXps",
        "colab_type": "code",
        "colab": {}
      },
      "source": [
        ""
      ],
      "execution_count": 0,
      "outputs": []
    },
    {
      "cell_type": "code",
      "metadata": {
        "id": "0VCP_0ad6fdp",
        "colab_type": "code",
        "colab": {}
      },
      "source": [
        ""
      ],
      "execution_count": 0,
      "outputs": []
    },
    {
      "cell_type": "markdown",
      "metadata": {
        "id": "poBv_IHk6fd2",
        "colab_type": "text"
      },
      "source": [
        "2) Realiza una función que reciba un número y regrese dicho número elevado por un número aleatorio entero entre el 1 y el 10"
      ]
    },
    {
      "cell_type": "code",
      "metadata": {
        "id": "6ncKSwYg6fd6",
        "colab_type": "code",
        "colab": {}
      },
      "source": [
        "from random import randint\n",
        "a=int(input(\"Escriba un número \"))\n",
        "#solo potencias aleatorias de 0 a 10\n",
        "b=randint(0,10)\n",
        "salida=pow(a,b)\n",
        "print(\"Su numero será elevado al numero\",b,\" obtenido aleatoriamente\")\n",
        "print(salida)"
      ],
      "execution_count": 0,
      "outputs": []
    },
    {
      "cell_type": "markdown",
      "metadata": {
        "id": "e3d9h9TN6feB",
        "colab_type": "text"
      },
      "source": [
        "3) Crea una función que reciba dos números e indique si son múltiplos el uno del otro "
      ]
    },
    {
      "cell_type": "code",
      "metadata": {
        "id": "dFYoUwAH6feM",
        "colab_type": "code",
        "colab": {
          "base_uri": "https://localhost:8080/",
          "height": 72
        },
        "outputId": "37be184d-080a-443f-e96d-c2f87b3c8836"
      },
      "source": [
        "a=int(input(\"Ingrese un número entero \"))\n",
        "b=int(input(\"Ingrese otro número entero \"))\n",
        "c=0\n",
        "\n",
        "#ninguno es multiplo \n",
        "if b%a==0 or a%b ==0:\n",
        "    print(\"Tienes un número múltiplo de otro\")\n",
        "else:\n",
        "   print(\"Tus números no son multiplos\")\n",
        "       \n",
        "\n",
        " "
      ],
      "execution_count": 12,
      "outputs": [
        {
          "output_type": "stream",
          "text": [
            "Ingrese un número entero 3\n",
            "Ingrese otro número entero 3\n",
            "Tienes un número múltiplo de otro\n"
          ],
          "name": "stdout"
        }
      ]
    },
    {
      "cell_type": "markdown",
      "metadata": {
        "id": "T8FXkj9J6feU",
        "colab_type": "text"
      },
      "source": [
        "4) Crea una función que reciba una lista desordenada de números y la ordene de mayor a menor\n",
        "\n",
        "    Ejemplo: [In]: [77, 1, 364, 587, 21, 13, 54, 999]  [Out]: [999, 587, 364, 77, 54, 21, 13, 1]"
      ]
    },
    {
      "cell_type": "code",
      "metadata": {
        "id": "ozMAOnHC6feV",
        "colab_type": "code",
        "colab": {
          "base_uri": "https://localhost:8080/",
          "height": 237
        },
        "outputId": "8578bed4-0ad2-495b-a783-3222a6f07cd1"
      },
      "source": [
        "\n",
        "lista=[]\n",
        "for a in range (10):\n",
        "    lista.append(int(input(\"Ingrese un número \")))\n",
        "print(\"Su lista es: \", lista)\n",
        "lista.sort(reverse=False) #ordenar lista\n",
        "print(\"Su lista ordenada es: \", lista)\n",
        "#usar sort sirve para el primer digito(alfabetico), a menos que conviertas en integer\n",
        "\n"
      ],
      "execution_count": 214,
      "outputs": [
        {
          "output_type": "stream",
          "text": [
            "Ingrese un número 4\n",
            "Ingrese un número 5\n",
            "Ingrese un número 6\n",
            "Ingrese un número 2\n",
            "Ingrese un número 8\n",
            "Ingrese un número 0\n",
            "Ingrese un número 44\n",
            "Ingrese un número 77\n",
            "Ingrese un número 7\n",
            "Ingrese un número 55\n",
            "Su lista es:  [4, 5, 6, 2, 8, 0, 44, 77, 7, 55]\n",
            "Su lista ordenada es:  [0, 2, 4, 5, 6, 7, 8, 44, 55, 77]\n"
          ],
          "name": "stdout"
        }
      ]
    },
    {
      "cell_type": "markdown",
      "metadata": {
        "id": "M1dmkXqs6feg",
        "colab_type": "text"
      },
      "source": [
        "5) Teniendose una lista con números entre el uno y el diez que pueden o no estar repetidos realiza un programa que pueda regresar el número que no está repetido de cualquier lista de este tipo.\n",
        "\n",
        "    Ejemplo: [In]: [ 1, 1, 2, 2, 3, 4, 4, 5, 5, 6, 6, 7, 7]  [Out]: 3"
      ]
    },
    {
      "cell_type": "code",
      "metadata": {
        "id": "_owyM0NI6feh",
        "colab_type": "code",
        "colab": {
          "base_uri": "https://localhost:8080/",
          "height": 54
        },
        "outputId": "e54644b1-5b02-4817-c2ea-a52ee5db1d49"
      },
      "source": [
        "from random import randint\n",
        "lista=[]\n",
        "irrep=[]\n",
        "#crear lista aleatoria\n",
        "for cont in range (10):\n",
        "  lista.append(randint(1,10))\n",
        "print(lista)\n",
        "\n",
        "#si el numero n aparece solo una vez en la lista, anotala en los irrepetibles\n",
        "for n in lista:\n",
        " #numero de veces que aparece n\n",
        "  if lista.count(n)==1: \n",
        "    irrep.append(n)\n",
        "\n",
        "print(irrep)\n"
      ],
      "execution_count": 18,
      "outputs": [
        {
          "output_type": "stream",
          "text": [
            "[5, 4, 9, 2, 10, 6, 3, 4, 7, 3]\n",
            "[5, 9, 2, 10, 6, 7]\n"
          ],
          "name": "stdout"
        }
      ]
    },
    {
      "cell_type": "markdown",
      "metadata": {
        "id": "kavueu8h6fer",
        "colab_type": "text"
      },
      "source": [
        "6) Implementa una función que reciba una lista de números enteros entre el uno y el diez que pueden o no estar repetidos y regrese un diccionario cuya clave sea el número (de menor a mayor) y el valor el número de veces que se repite ese item en la lista.\n",
        "\n",
        "      Ejemplo: [In]:[1, 8, 9, 6, 4, 1, 1, 5, 4, 2, 3, 5, 5, 8, 1, 3, 2] \n",
        "               [Out]: { 1:4 , 2:2 , 3:2, 4:2, 5:3, 6:1, 8:2, 9:1} \n",
        "\n",
        "**NOTA**: Consideren que la lista sólo va de 1 al 10 así que pueden evaluar primero los valores dentro de la lista o evaluar del 1 al 10 con lo que obtendrían: { 1:4 , 2:2 , 3:2, 4:2, 5:3, 6:1, 7:0, 8:2, 9:1, 10:0 }"
      ]
    },
    {
      "cell_type": "code",
      "metadata": {
        "id": "KPBsC91i6fet",
        "colab_type": "code",
        "colab": {
          "base_uri": "https://localhost:8080/",
          "height": 54
        },
        "outputId": "85fd60b5-0bb1-4162-c60a-0fd4b1a7ddf3"
      },
      "source": [
        "#Para no recibir tantos numeros los genero aleatoriamente\n",
        "from random import randint\n",
        "lista=[]\n",
        "diccionario={}\n",
        "for cont in range (1,10):\n",
        "  lista.append(randint(1,10))\n",
        "print(\"lista original\",lista)\n",
        "for cont in range (1,10):\n",
        "  diccionario.update({cont:lista.count(cont)})\n",
        "print(\"diccionario, num: veces escrito en la lista \",diccionario) "
      ],
      "execution_count": 81,
      "outputs": [
        {
          "output_type": "stream",
          "text": [
            "lista original [6, 6, 7, 1, 5, 8, 7, 6, 3]\n",
            "diccionario, num: veces escrito en la lista  {1: 1, 2: 0, 3: 1, 4: 0, 5: 1, 6: 3, 7: 2, 8: 1, 9: 0}\n"
          ],
          "name": "stdout"
        }
      ]
    },
    {
      "cell_type": "markdown",
      "metadata": {
        "id": "5XbvVXpZ6fe1",
        "colab_type": "text"
      },
      "source": [
        "7) Elabora una función que reciba valores del usuario y los añada a una lista con la condición de que sea un valor númerico entre el 0 y 10.  \n",
        "\n",
        "**OPCIONAL +1 punto en la serie**: En caso de que no sea un valor númerico que levante <raise> una excepción creada por ustedes que se llamen \"aquí no\""
      ]
    },
    {
      "cell_type": "code",
      "metadata": {
        "id": "dbDx5s8z6fe2",
        "colab_type": "code",
        "colab": {
          "base_uri": "https://localhost:8080/",
          "height": 127
        },
        "outputId": "7ceb21b0-53a0-40c0-8e84-1ea883a4c251"
      },
      "source": [
        "lista=[]\n",
        "x='no'\n",
        "for x in range (5): #solo puede poner 5\n",
        " x=float(input(\"Ingresa un número, solo entre 0 y 10 \"))\n",
        " if x <= 10:\n",
        "     if x >= 0:\n",
        "       lista.append(x)\n",
        "print(lista)\n",
        "#Puede mejorar"
      ],
      "execution_count": 227,
      "outputs": [
        {
          "output_type": "stream",
          "text": [
            "Ingresa un número, solo entre 0 y 10 1\n",
            "Ingresa un número, solo entre 0 y 10 345\n",
            "Ingresa un número, solo entre 0 y 10 3\n",
            "Ingresa un número, solo entre 0 y 10 5\n",
            "Ingresa un número, solo entre 0 y 10 6\n",
            "[1.0, 3.0, 5.0, 6.0]\n"
          ],
          "name": "stdout"
        }
      ]
    },
    {
      "cell_type": "markdown",
      "metadata": {
        "id": "mSVsiItT6fe_",
        "colab_type": "text"
      },
      "source": [
        "8) Haz una función que reciba una frase y regrese un booleano True en caso de ser palindromo y False de no serlo.\n",
        "\n",
        "    Ejemplo: [In]: \"Anita lava la tina\"  [Out]: True\n",
        "    \n",
        "**NOTA**: Tomen en cuenta que los espacios no deben ser tomados en cuenta y que Python es sensible a mayúsculas y minúsculas."
      ]
    },
    {
      "cell_type": "code",
      "metadata": {
        "id": "oYXTpWyP6ffB",
        "colab_type": "code",
        "colab": {
          "base_uri": "https://localhost:8080/",
          "height": 90
        },
        "outputId": "1dd7b421-198a-44c3-c95e-c891b325a1fa"
      },
      "source": [
        "\n",
        "def palindromo(cadena):\n",
        "  minusculas=cadena.lower() #A minusculas\n",
        "  cont=0\n",
        "  listareves=[]\n",
        "  minesp=minusculas.replace(\" \",\"\")\n",
        "  print(minesp) #imprimes original sin espacio y en minusculas\n",
        "  listareves=minesp[::-1] #orden al reves\n",
        "  print(listareves) #imprimes al reves, listo para ver si es palindromo\n",
        "  return listareves==minesp\n",
        "\n",
        "cadena=(input(\"Ingresa un palindromo \"))\n",
        "print(palindromo(cadena))\n",
        "\n"
      ],
      "execution_count": 53,
      "outputs": [
        {
          "output_type": "stream",
          "text": [
            "Ingresa un palindromo ANita lava la tina\n",
            "anitalavalatina\n",
            "anitalavalatina\n",
            "True\n"
          ],
          "name": "stdout"
        }
      ]
    },
    {
      "cell_type": "markdown",
      "metadata": {
        "id": "G53GfL886ffI",
        "colab_type": "text"
      },
      "source": [
        "9) Escribe una función que reciba una cadena y regrese un diccionario donde la llave sea la vocal y el valor el número de veces que aparece en dicha cadena. \n",
        "\n",
        "    Ejemplo: [In]: \"Parangaricutirimicuaro\"   [Out]: { 'a':4, 'e':0, 'i':4, 'o':1, 'u':2 }"
      ]
    },
    {
      "cell_type": "code",
      "metadata": {
        "id": "JHxztOx26ffK",
        "colab_type": "code",
        "colab": {
          "base_uri": "https://localhost:8080/",
          "height": 54
        },
        "outputId": "ed9cba7d-2c37-4e75-f2de-376fa79a58c1"
      },
      "source": [
        "def Vocales(cadena):\n",
        "  \n",
        "  Dicc={}\n",
        "  cadena=cadena.lower()\n",
        "  for vocal in ['a','e','i','o','u']:\n",
        "    Dicc.update({vocal:cadena.count(vocal)})\n",
        "  return Dicc\n",
        "frase=str(input(\"Ingrese una frase o palabra: \"))\n",
        "print(Vocales(frase))"
      ],
      "execution_count": 70,
      "outputs": [
        {
          "output_type": "stream",
          "text": [
            "Ingrese una frase o palabra: Abecedario\n",
            "{'a': 2, 'e': 2, 'i': 1, 'o': 1, 'u': 0}\n"
          ],
          "name": "stdout"
        }
      ]
    },
    {
      "cell_type": "markdown",
      "metadata": {
        "id": "dlvYsCcS6ffS",
        "colab_type": "text"
      },
      "source": [
        "8) Realiza una función que al ingresar tu altura y tu peso regrese tu índice de masa corporal(IMC)\n",
        "    \n",
        "**NOTA**: IMC= peso en kg / estatura en metros al cuadrado"
      ]
    },
    {
      "cell_type": "code",
      "metadata": {
        "id": "zXXEQXid6ffT",
        "colab_type": "code",
        "colab": {
          "base_uri": "https://localhost:8080/",
          "height": 72
        },
        "outputId": "86c432c9-84aa-4744-e5d0-72d5ca8aab69"
      },
      "source": [
        "alt=float(input(\"Ingresa tu altura en metros \"))\n",
        "peso=float(input(\"Ingresa tu peso en kg \"))\n",
        "IMC=peso/(alt**2)\n",
        "print(IMC)"
      ],
      "execution_count": 110,
      "outputs": [
        {
          "output_type": "stream",
          "text": [
            "Ingresa tu altura en metros 1.5\n",
            "Ingresa tu peso en kg 55\n",
            "24.444444444444443\n"
          ],
          "name": "stdout"
        }
      ]
    },
    {
      "cell_type": "markdown",
      "metadata": {
        "id": "aAD1tPji6ffa",
        "colab_type": "text"
      },
      "source": [
        "9) Elabora un programa que permita realizar la suma de dos matrices 3x3. Los datos de ambas matrices deberán ser ingresados por el usuario.\n",
        "\n",
        "**NOTA** : Las matrices en python puede implementarse con listas dentro de listas"
      ]
    },
    {
      "cell_type": "code",
      "metadata": {
        "id": "7Bhx5pX66ffd",
        "colab_type": "code",
        "colab": {
          "base_uri": "https://localhost:8080/",
          "height": 733
        },
        "outputId": "7b7196ee-83f2-43dc-faca-49eac9543005"
      },
      "source": [
        "\n",
        "matriz1=[[0,0,0],[0,0,0],[0,0,0]] \n",
        "matriz2=[[0,0,0],[0,0,0],[0,0,0]] \n",
        "matrizsuma=[[0,0,0],[0,0,0],[0,0,0]] \n",
        "print(\"Ingrese una matriz de 3x3\")\n",
        "for contf in range (3):\n",
        "  for contc in range (3):\n",
        "    print(\"Ingrese el valor\",contf,contc)\n",
        "    matriz1[contf][contc]=float(input(\"Aqui \"))\n",
        "print(\"Ingrese una segunda matriz de 3x3\")\n",
        "for contf in range (3):\n",
        "  for contc in range (3):\n",
        "    print(\"Ingrese el valor\", contf, contc)\n",
        "    matriz2[contf][contc]=float(input(\"Aqui \"))\n",
        "for contf in range (3):\n",
        "  for contc in range (3):\n",
        "      matrizsuma[contf][contc]=matriz1[contf][contc]+matriz2[contf][contc]\n",
        "\n",
        "print(matrizsuma)"
      ],
      "execution_count": 186,
      "outputs": [
        {
          "output_type": "stream",
          "text": [
            "Ingrese una matriz de 3x3\n",
            "Ingrese el valor 0 0\n",
            "Aqui 1\n",
            "Ingrese el valor 0 1\n",
            "Aqui 1\n",
            "Aqui 1\n",
            "Ingrese el valor 0 2\n",
            "Ingrese el valor 1 0\n",
            "Aqui 1\n",
            "Ingrese el valor 1 1\n",
            "Aqui 1\n",
            "Ingrese el valor 1 2\n",
            "Aqui 1\n",
            "Ingrese el valor 2 0\n",
            "Aqui 1\n",
            "Ingrese el valor 2 1\n",
            "Aqui 1\n",
            "Ingrese el valor 2 2\n",
            "Aqui 1\n",
            "Ingrese una segunda matriz de 3x3\n",
            "Ingrese el valor 0 0\n",
            "Aqui 2\n",
            "Ingrese el valor 0 1\n",
            "Aqui 2\n",
            "Ingrese el valor 0 2\n",
            "Aqui 2\n",
            "Ingrese el valor 1 0\n",
            "Aqui 2\n",
            "Ingrese el valor 1 1\n",
            "Aqui 2\n",
            "Ingrese el valor 1 2\n",
            "Aqui 2\n",
            "Ingrese el valor 2 0\n",
            "Aqui 2\n",
            "Ingrese el valor 2 1\n",
            "Aqui 2\n",
            "Ingrese el valor 2 2\n",
            "Aqui 2\n",
            "[[3.0, 3.0, 3.0], [3.0, 3.0, 3.0], [3.0, 3.0, 3.0]]\n"
          ],
          "name": "stdout"
        }
      ]
    },
    {
      "cell_type": "markdown",
      "metadata": {
        "id": "0rftFhis6ffm",
        "colab_type": "text"
      },
      "source": [
        "10) Con ayuda de las sentencias if y elif elabora una calculadora que permita sumar, restar, multiplicar y dividir dos números. El usuario podrá elegir qué operación desea realizar e ingresar dichos dos números."
      ]
    },
    {
      "cell_type": "code",
      "metadata": {
        "id": "NeQPecXr6ffo",
        "colab_type": "code",
        "colab": {
          "base_uri": "https://localhost:8080/",
          "height": 90
        },
        "outputId": "106615e3-813d-4e02-e484-c46c734aec52"
      },
      "source": [
        "op=input(\"Escriba que operación quiere efectuar sobre dos números: suma, resta, mult, div \")\n",
        "a=float(input(\"Escriba el primer número \"))\n",
        "b=float(input(\"Escriba el segundo número \"))\n",
        "if op=='suma':\n",
        "  print(a,\" + \",b,\" = \",a+b)\n",
        "elif op=='resta':\n",
        "  print(a,\" - \",b,\" = \",a-b)\n",
        "elif op=='mult':\n",
        "  print(a,\" * \",b,\" = \",a*b)\n",
        "elif op=='div':\n",
        "  print(a,\" * \",b,\" = \",a/b)"
      ],
      "execution_count": 80,
      "outputs": [
        {
          "output_type": "stream",
          "text": [
            "Escriba que operación quiere efectuar sobre dos números: suma, resta, mult, divsuma\n",
            "Escriba el primer número1\n",
            "Escriba el segundo número44\n",
            "1.0  +  44.0  =  45.0\n"
          ],
          "name": "stdout"
        }
      ]
    },
    {
      "cell_type": "markdown",
      "metadata": {
        "id": "cfbmN3uK6ffx",
        "colab_type": "text"
      },
      "source": [
        "11) Implementando funciones lamba, elabora un programa que permita realizar las operaciones básicas aritméticas"
      ]
    },
    {
      "cell_type": "code",
      "metadata": {
        "id": "6of69g7W6ffz",
        "colab_type": "code",
        "colab": {
          "base_uri": "https://localhost:8080/",
          "height": 90
        },
        "outputId": "7bb0ce23-2f4c-4fa5-85c9-18e6dfa8133b"
      },
      "source": [
        "a=float(input(\"Escriba el primer número \"))\n",
        "b=float(input(\"Escriba el segundo número \"))\n",
        "op=input(\"Escriba que operación quiere efectuar sobre dos números: suma, resta, mult, div \")\n",
        "if op=='suma':\n",
        "  x=lambda a,b:a+b\n",
        "  print(x(a,b))\n",
        "elif op=='resta':\n",
        "  y=lambda a,b:a-b\n",
        "  print(y(a,b))\n",
        "elif op=='mult':\n",
        "  z=lambda a,b:a*b\n",
        "  print(z(a,b))\n",
        "elif op=='div':\n",
        "  w=lambda a,b:a/b\n",
        "  print(w(a,b))"
      ],
      "execution_count": 83,
      "outputs": [
        {
          "output_type": "stream",
          "text": [
            "Escriba el primer número 1\n",
            "Escriba el segundo número 33\n",
            "Escriba que operación quiere efectuar sobre dos números: suma, resta, mult, div suma\n",
            "34.0\n"
          ],
          "name": "stdout"
        }
      ]
    },
    {
      "cell_type": "markdown",
      "metadata": {
        "id": "VFFSJh9L6ff5",
        "colab_type": "text"
      },
      "source": [
        "12) Haz una función que regrese los números primos menores de 50\n",
        "\n",
        "    Ejemplo: [Out]: [ 1, 2, 3, 5, 7, 11, 13, 17, 19, 23, 29, 31, 37, 41, 47]"
      ]
    },
    {
      "cell_type": "code",
      "metadata": {
        "id": "Dl3ZKIRB6ff8",
        "colab_type": "code",
        "colab": {
          "base_uri": "https://localhost:8080/",
          "height": 35
        },
        "outputId": "65b48781-b931-40e9-e7c8-1d8d13cdd0b2"
      },
      "source": [
        "lista=[]\n",
        "ant=1\n",
        "cont=0\n",
        "for num in range (2,50):\n",
        "  for ant in range (2,num-1):\n",
        "    if num%ant==0:\n",
        "      break\n",
        "  else:\n",
        "      lista.append(num)\n",
        "print(lista)\n"
      ],
      "execution_count": 98,
      "outputs": [
        {
          "output_type": "stream",
          "text": [
            "[2, 3, 5, 7, 11, 13, 17, 19, 23, 29, 31, 37, 41, 43, 47]\n"
          ],
          "name": "stdout"
        }
      ]
    },
    {
      "cell_type": "markdown",
      "metadata": {
        "id": "d7psqWVa6fgD",
        "colab_type": "text"
      },
      "source": [
        "13) Realiza una función donde ingreses un número \"n\" y que regrese \"n\" términos de la serie fibonacci\n",
        "    \n",
        "    Ejemplo: [In]: 11 [Out]: [0, 1, 1, 2, 3, 5, 8, 13, 21, 34, 55 ]"
      ]
    },
    {
      "cell_type": "code",
      "metadata": {
        "id": "pWPZQLli6fgF",
        "colab_type": "code",
        "colab": {
          "base_uri": "https://localhost:8080/",
          "height": 54
        },
        "outputId": "36457579-012b-4861-8249-132d70a13e79"
      },
      "source": [
        "def fibonacci(n):\n",
        " f0=0\n",
        " f1=1\n",
        " fibo=[0,1]\n",
        " for cont in range (2,n):\n",
        "  fibo.append(fibo[cont-1]+fibo[cont-2])\n",
        " return fibo\n",
        "\n",
        "n=int(input(\"Te mostrare la serie de fibonacci, hasta una iteración n. ¿Que n quieres elegir? \"))\n",
        "print(fibonacci(n))"
      ],
      "execution_count": 113,
      "outputs": [
        {
          "output_type": "stream",
          "text": [
            "Te mostrare la serie de fibonacci, hasta una iteración n. ¿Que n quieres elegir? 7\n",
            "[0, 1, 1, 2, 3, 5, 8]\n"
          ],
          "name": "stdout"
        }
      ]
    },
    {
      "cell_type": "markdown",
      "metadata": {
        "id": "pXL6He6H6fgL",
        "colab_type": "text"
      },
      "source": [
        "14) Escribe una función que pida un número \"n\" y luego pida al usuario \"n\" número de entradas"
      ]
    },
    {
      "cell_type": "code",
      "metadata": {
        "id": "i7Fxh6U96fgN",
        "colab_type": "code",
        "colab": {
          "base_uri": "https://localhost:8080/",
          "height": 90
        },
        "outputId": "d1b6d859-30eb-484a-eeab-74f444caa5df"
      },
      "source": [
        "def entradas():\n",
        "  lista=[]\n",
        "  n=int(input(\"Ingrese el número de entradas que desea \"))\n",
        "  for cont in range (1,n+1):\n",
        "    lista.append(input(\"Ingrese un valor \"))\n",
        "entradas()"
      ],
      "execution_count": 133,
      "outputs": [
        {
          "output_type": "stream",
          "text": [
            "Ingrese el número de entradas que desea 3\n",
            "Ingrese un valor 234\n",
            "Ingrese un valor 2\n",
            "Ingrese un valor 456\n"
          ],
          "name": "stdout"
        }
      ]
    },
    {
      "cell_type": "markdown",
      "metadata": {
        "id": "XOrqUIGg6fgT",
        "colab_type": "text"
      },
      "source": [
        "15) Realiza una función que reciba una matriz 3x3 y regresé la transpuesta de dicha matriz"
      ]
    },
    {
      "cell_type": "code",
      "metadata": {
        "id": "WTKKfMpj6fgV",
        "colab_type": "code",
        "colab": {
          "base_uri": "https://localhost:8080/",
          "height": 164
        },
        "outputId": "a6b4b185-36cf-4ceb-8e68-16b18d261e81"
      },
      "source": [
        "import numpy as np\n",
        "A=np.array([[1,23,100],[2,3,4],[-1,-2,-3]])\n",
        "print(\"Matriz original\")\n",
        "print(A)\n",
        "def transp(matriz):\n",
        "  zirtram=np.linalg.inv(matriz) #Jaja ya se que esta funcion en realidad solo la importe, pero da flojera\n",
        "  return zirtram\n",
        "print(\"Matriz transpuesta\")\n",
        "print(transp(A))\n",
        "\n"
      ],
      "execution_count": 202,
      "outputs": [
        {
          "output_type": "stream",
          "text": [
            "Matriz original\n",
            "[[  1  23 100]\n",
            " [  2   3   4]\n",
            " [ -1  -2  -3]]\n",
            "Matriz transpuesta\n",
            "[[ 0.01818182  2.38181818  3.78181818]\n",
            " [-0.03636364 -1.76363636 -3.56363636]\n",
            " [ 0.01818182  0.38181818  0.78181818]]\n"
          ],
          "name": "stdout"
        }
      ]
    },
    {
      "cell_type": "markdown",
      "metadata": {
        "id": "CYzbB_by6fga",
        "colab_type": "text"
      },
      "source": [
        "16) Crea una lista con los números del 1 al 100 que en los multiplos de 7 y números que lleven algún siete en sus cifra regrese la cadena \"Aplauso\"\n",
        "\n",
        "    Ejemplo: [Out]: [1, 2, 3, 4, 5, 6, \"Aplauso\", 8, 9, 10, 11, 12, 13, \"Aplauso\", 15, 16, \"Aplauso\", 18, 19, 20, \"Aplauso\", 22, 23, 24, 25, 26,\"Aplauso\", \"Aplauso\", 29, 30, 31, 32, 33, 34, \"Aplauso\", 36, \"Aplauso\", 38, 39, 40, 41, \"Aplauso\", 43, 44, 45, 46, \"Aplauso\", 48, \"Aplauso\", 50, 51, 52, 53, 54, 55, \"Aplauso\", \"Aplauso\", 58, 59, 60, 61, 62, \"Aplauso\", 64, 65, 66, \"Aplauso\", 68, 69, \"Aplauso\", \"Aplauso\", \"Aplauso\", \"Aplauso\", \"Aplauso\", \"Aplauso\", \"Aplauso\", \"Aplauso\", \"Aplauso\", \"Aplauso\", 80, 81, 82, 83, \"Aplauso\", 85, 86, \"Aplauso\", 88, 89, 90, \"Aplauso\", 92, 93, 94, 95, 96, \"Aplauso\", \"Aplauso\", 99, 100]"
      ]
    },
    {
      "cell_type": "code",
      "metadata": {
        "id": "ujY6LmBZ6fgc",
        "colab_type": "code",
        "colab": {
          "base_uri": "https://localhost:8080/",
          "height": 55
        },
        "outputId": "6476634d-41ed-483b-d0b4-48aabf89a530"
      },
      "source": [
        "#hasta 100, si el número es multiplos de 7 o con 7 se imprimira aplauso\n",
        "num=0 \n",
        "lista=[]\n",
        "for num in range (1,101):\n",
        "  carc=str(num)\n",
        "  if num%7==0 or '7' in str(num):\n",
        "    lista.append(\"Aplauso\")\n",
        "  else:\n",
        "    lista.append(num)\n",
        "   \n",
        "print(lista)"
      ],
      "execution_count": 142,
      "outputs": [
        {
          "output_type": "stream",
          "text": [
            "[1, 2, 3, 4, 5, 6, 'Aplauso', 8, 9, 10, 11, 12, 13, 'Aplauso', 15, 16, 'Aplauso', 18, 19, 20, 'Aplauso', 22, 23, 24, 25, 26, 'Aplauso', 'Aplauso', 29, 30, 31, 32, 33, 34, 'Aplauso', 36, 'Aplauso', 38, 39, 40, 41, 'Aplauso', 43, 44, 45, 46, 'Aplauso', 48, 'Aplauso', 50, 51, 52, 53, 54, 55, 'Aplauso', 'Aplauso', 58, 59, 60, 61, 62, 'Aplauso', 64, 65, 66, 'Aplauso', 68, 69, 'Aplauso', 'Aplauso', 'Aplauso', 'Aplauso', 'Aplauso', 'Aplauso', 'Aplauso', 'Aplauso', 'Aplauso', 'Aplauso', 80, 81, 82, 83, 'Aplauso', 85, 86, 'Aplauso', 88, 89, 90, 'Aplauso', 92, 93, 94, 95, 96, 'Aplauso', 'Aplauso', 99, 100]\n"
          ],
          "name": "stdout"
        }
      ]
    },
    {
      "cell_type": "markdown",
      "metadata": {
        "id": "U5Ra4T9O6fgl",
        "colab_type": "text"
      },
      "source": [
        "17) Haz una función que reciba un número \"n\" pueda crear una lista del 1 al 100 que regrese la cadena \"NO\" para los números divisibles entre el número \"n\"\n",
        "\n",
        "    Ejemplo: [In]: 15 [Out]: [0, 1, 2, 3, 4, 5, 6, 7, 8, 9, 10, 11, 12, 13, 14, \"NO\" , 16, 17, 18, 19, 20, 21, 22, 23, 24, 25, 26, 27, 28, 29, \"NO\", 31, 32, 33, 34, 35, 36, 37, 38, 39, 40, 41, 42, 43, 44, \"NO\", 46, 47, 48, 49, 50, 51, 52, 53, 54, 55, 56, 57, 58, 59, \"NO\", 61, 62, 63, 64, 65, 66, 67, 68, 69, 70, 71, 72, 73, 74, \"NO\", 76, 77, 78, 79, 80, 81, 82, 83, 84, 85, 86, 87, 88, 89, \"NO\", 91, 92, 93, 94, 95, 96, 97, 98, 99, 100]"
      ]
    },
    {
      "cell_type": "code",
      "metadata": {
        "id": "KCmtomLX6fgm",
        "colab_type": "code",
        "colab": {
          "base_uri": "https://localhost:8080/",
          "height": 74
        },
        "outputId": "e003052b-729d-4f11-c194-ddb9c6858da9"
      },
      "source": [
        "\n",
        "def multno(n):\n",
        "  lista=[]\n",
        "  for cont in range (1,101):\n",
        "    if cont%n==0:\n",
        "      lista.append('NO')\n",
        "    else:\n",
        "      lista.append(cont)\n",
        "  return lista\n",
        "n=float(input(\"Ingrese un número del 1 al 100 \"))\n",
        "print(multno(n))"
      ],
      "execution_count": 149,
      "outputs": [
        {
          "output_type": "stream",
          "text": [
            "Ingrese un número del 1 al 100 10\n",
            "[1, 2, 3, 4, 5, 6, 7, 8, 9, 'NO', 11, 12, 13, 14, 15, 16, 17, 18, 19, 'NO', 21, 22, 23, 24, 25, 26, 27, 28, 29, 'NO', 31, 32, 33, 34, 35, 36, 37, 38, 39, 'NO', 41, 42, 43, 44, 45, 46, 47, 48, 49, 'NO', 51, 52, 53, 54, 55, 56, 57, 58, 59, 'NO', 61, 62, 63, 64, 65, 66, 67, 68, 69, 'NO', 71, 72, 73, 74, 75, 76, 77, 78, 79, 'NO', 81, 82, 83, 84, 85, 86, 87, 88, 89, 'NO', 91, 92, 93, 94, 95, 96, 97, 98, 99, 'NO']\n"
          ],
          "name": "stdout"
        }
      ]
    },
    {
      "cell_type": "markdown",
      "metadata": {
        "id": "qLpbgGWN6fgt",
        "colab_type": "text"
      },
      "source": [
        "18) Dada una lista con elementos númericos del 1 al 100 elabora una lista por comprensión que guarde los elementos que son múltiplos de 5."
      ]
    },
    {
      "cell_type": "code",
      "metadata": {
        "id": "dxwYCCcT6fgw",
        "colab_type": "code",
        "colab": {
          "base_uri": "https://localhost:8080/",
          "height": 35
        },
        "outputId": "b57bd372-0354-44ac-f23b-2f62c75ff654"
      },
      "source": [
        "lista5=[]\n",
        "lista5=[ i for i in range (2,101) if i%5==0 ]\n",
        "print(lista5)"
      ],
      "execution_count": 151,
      "outputs": [
        {
          "output_type": "stream",
          "text": [
            "[5, 10, 15, 20, 25, 30, 35, 40, 45, 50, 55, 60, 65, 70, 75, 80, 85, 90, 95, 100]\n"
          ],
          "name": "stdout"
        }
      ]
    },
    {
      "cell_type": "markdown",
      "metadata": {
        "id": "XJJKlTAC6fhD",
        "colab_type": "text"
      },
      "source": [
        "19) Escribe una función que tome un entero positivo \"n\" y regrese la suma de los cuadrados de todos los números pares menores o iguales que \"n\"\n",
        "\n",
        "    Ejemplo: [In]: 12 [Out]: 364\n",
        "    "
      ]
    },
    {
      "cell_type": "code",
      "metadata": {
        "id": "ub3Zjdeq6fhF",
        "colab_type": "code",
        "colab": {
          "base_uri": "https://localhost:8080/",
          "height": 54
        },
        "outputId": "1b91fc78-1323-4562-ebb8-bc2e607250ce"
      },
      "source": [
        "def sumaparmenor(n): #n numero hasta el cual buscas cuadrados\n",
        "#para cada elemento sumas i**2+... con i par & i<=n  \n",
        " suma=0\n",
        " for i in range (1,n+1):\n",
        "   if i<=n and i%2==0:\n",
        "     suma=suma+(i**2)\n",
        " return suma\n",
        "n=int(input(\"Ingrese un entero positivo \"))\n",
        "print(\"Le devuelvo la suma de los cuadrados de los números pares menor o iguales que n: \",sumaparmenor(n))\n",
        "\n"
      ],
      "execution_count": 161,
      "outputs": [
        {
          "output_type": "stream",
          "text": [
            "Ingrese un entero positivo 12\n",
            "Le devuelvo la suma de los cuadrados de los números pares menor o iguales que n:  364\n"
          ],
          "name": "stdout"
        }
      ]
    },
    {
      "cell_type": "markdown",
      "metadata": {
        "id": "zyoav4Zk6fhK",
        "colab_type": "text"
      },
      "source": [
        "19) Realiza una función que pida un número \"n\" y elabora un menú donde el usuario pueda elegir si quiere convertir  n a base binaria, hexadecimal u octal.\n",
        "\n",
        "    Ejemplo suponiendo que se elige hexadecimal: [In]: 365 [Out]: 16d\n",
        "    \n",
        "**NOTA**: Pueden realizar la función desde 0 lo cuál les daría su punto extra o investiguen los métodos hex(), bin(),...."
      ]
    },
    {
      "cell_type": "code",
      "metadata": {
        "id": "5ddGx_0_6fhL",
        "colab_type": "code",
        "colab": {
          "base_uri": "https://localhost:8080/",
          "height": 164
        },
        "outputId": "b7e1d7be-e4b7-4772-c830-ce43c2bac78b"
      },
      "source": [
        "import sys\n",
        "def conver():\n",
        "  n=(int(input(\"Ingrese un número entero \")))\n",
        "  print(\"¿A que base quiere convertir su número? Binaria, hexadecimal u octal \")\n",
        "  print(\"Menu\") \n",
        "  print(\"1)Binaria\")\n",
        "  print(\"2)Octal\")\n",
        "  print(\"3)Hexadecimal\")\n",
        "  \n",
        "  base=input(\"Escribe el número deseado: \")\n",
        "  if base=='1':\n",
        "    resp=bin(n)\n",
        "  elif base=='3':\n",
        "    resp=hex(n)\n",
        "  elif base=='2':\n",
        "    resp=oct(n)\n",
        "  \n",
        "  return resp\n",
        "  \n",
        "print(conver())\n"
      ],
      "execution_count": 176,
      "outputs": [
        {
          "output_type": "stream",
          "text": [
            "Ingrese un número entero 3455\n",
            "¿A que base quiere convertir su número? Binaria, hexadecimal u octal \n",
            "Menu\n",
            "1)Binaria\n",
            "2)Octal\n",
            "3)Hexadecimal\n",
            "Escribe el número deseado: 3\n",
            "0xd7f\n"
          ],
          "name": "stdout"
        }
      ]
    },
    {
      "cell_type": "markdown",
      "metadata": {
        "id": "fyP6XDEA6fhU",
        "colab_type": "text"
      },
      "source": [
        "![texto alternativo](20) En esta opción eres libre de poner cualquier función. Debes comentar que es lo que hace\n",
        "\n",
        "**NOTA**: No, no puede ser sólo un print. \n",
        "\n",
        "**NOTA**: No, tampoco cuenta hacer dos o tres prints. \n",
        "\n",
        "**NOTA**: Deben usar aunque sea un bucle, sean creativos. "
      ]
    },
    {
      "cell_type": "code",
      "metadata": {
        "id": "9Oyu8gCG6fhV",
        "colab_type": "code",
        "colab": {
          "base_uri": "https://localhost:8080/",
          "height": 109
        },
        "outputId": "74ea8d4c-fe89-499b-f9df-ab74e67a66a3"
      },
      "source": [
        "m=5\n",
        "def term(n,m):\n",
        "  \n",
        "  lista=[n**k for k in range (5)]\n",
        "  return lista\n",
        "\n",
        "n=float(input(print(\"En la serie geometrica r^k, dale un valor a r y te digo si converge\")))\n",
        "if n<=abs(1):\n",
        "  print(\"La seríe geometrica con \", n, \"como k, converge\")\n",
        "else:\n",
        "  print(\"¿Cómo va converger eso? Demuestralo\")\n",
        "print(\"Te regalo los primeros 5 términos de tu sucesión\")\n",
        "print(term(n,m))"
      ],
      "execution_count": 213,
      "outputs": [
        {
          "output_type": "stream",
          "text": [
            "En la serie geometrica r^k, dale un valor a r y te digo si converge\n",
            "3\n",
            "¿Cómo va converger eso? Demuestralo\n",
            "Te regalo los primeros 5 términos de tu sucesión\n",
            "[1.0, 3.0, 9.0, 27.0, 81.0]\n"
          ],
          "name": "stdout"
        }
      ]
    }
  ]
}